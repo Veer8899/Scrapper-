{
 "cells": [
  {
   "cell_type": "markdown",
   "id": "48ca3aa7-1539-470d-90b0-71d887c32607",
   "metadata": {},
   "source": [
    "## Q1. What is Web Scraping? Why is it Used? Give three areas where Web Scraping is used to get data.\n",
    "\n",
    "#### Web scraping is the process of extracting data from websites automatically using software tools or scripts. It involves fetching web pages, parsing the HTML content, and extracting the desired information, such as text, images, tables, links, or any other structured data. Web scraping enables automated data collection from various websites at scale.\n",
    "\n",
    "### Web scraping is used for several purposes in several areas: Data Collection and Analysis, Competitive Intelligence, Market Research, Lead Generation, Monitoring and Tracking, Research and Academia, etc.\n",
    "\n",
    "\n"
   ]
  },
  {
   "cell_type": "markdown",
   "id": "1852ae17-9412-4b89-84c6-1590b6ee5e39",
   "metadata": {},
   "source": [
    "## Q2. What are the different methods used for Web Scraping?\n",
    "\n",
    "#### There are several methods and techniques used for web scraping and they are: Manual Copy-Pasting, Regular Expressions, HTML Parsing, Web Scraping Frameworks, Application Programming Interface (API), Headless Browsers. \n",
    " \n"
   ]
  },
  {
   "cell_type": "markdown",
   "id": "5c478bac-1dcb-4803-85e9-df48db41f3c7",
   "metadata": {},
   "source": [
    "## Q3. What is Beautiful Soup? Why is it used?\n",
    "\n",
    "#### Beautiful Soup is a Python library widely used for web scraping and parsing HTML or XML documents. It provides an easy-to-use interface to extract data from web pages by navigating and searching the HTML or XML tree structure.\n",
    "\n",
    "### Beautiful Soup is used for several reasons: Beautiful Soup is used for several reasons, Flexible Data Extraction, Robust HTML/XML Handling, Compatibility, Integration with other Libraries, Active Community and Documentation etc."
   ]
  },
  {
   "cell_type": "markdown",
   "id": "3933aeca-7529-4965-8179-736f30dc5f4c",
   "metadata": {},
   "source": [
    "## Q4. Why is flask used in this Web Scraping project?\n",
    "\n",
    "#### Flask is a Python web framework that is commonly used for developing web applications. Flask is lightweight, flexible, and easy to use, making it a popular choice for building web scraping projects. And it also helps to make API Development, Data Storage and Persistence, Data Presentation and Visualization, Web Interface, etc\n"
   ]
  },
  {
   "cell_type": "markdown",
   "id": "2cd1aa95-11b0-4f0d-899a-688cfab91a78",
   "metadata": {},
   "source": [
    "## Q5. Write the names of AWS services used in this project. Also, explain the use of each service."
   ]
  },
  {
   "cell_type": "markdown",
   "id": "498568d8-011d-4e77-a0a6-bbf277cf2834",
   "metadata": {},
   "source": [
    "#### Elastic Beanstalk: Elastic Beanstalk can be used to host the web application. It abstracts away the underlying infrastructure details, automatically handling the deployment, capacity provisioning, load balancing, and scaling of the application."
   ]
  },
  {
   "cell_type": "markdown",
   "id": "0b66575f-3880-4319-8457-84836854d9d4",
   "metadata": {},
   "source": [
    "#### CodePipeline: CodePipeline is a fully managed continuous delivery service that automates the release processes of software applications. It helps orchestrate and automate the building, testing, and deployment of applications."
   ]
  },
  {
   "cell_type": "markdown",
   "id": "873f7f16-46e3-4f51-a06b-de5aa6db9123",
   "metadata": {},
   "source": [
    "#### IAM Roles:  IAM roles are used to grant permissions to AWS services and resources. They define what actions an AWS service can perform and what resources it can access."
   ]
  },
  {
   "cell_type": "code",
   "execution_count": null,
   "id": "4e8c1dee-e0b2-41d8-86a4-016a1af618f6",
   "metadata": {},
   "outputs": [],
   "source": []
  }
 ],
 "metadata": {
  "kernelspec": {
   "display_name": "Python 3 (ipykernel)",
   "language": "python",
   "name": "python3"
  },
  "language_info": {
   "codemirror_mode": {
    "name": "ipython",
    "version": 3
   },
   "file_extension": ".py",
   "mimetype": "text/x-python",
   "name": "python",
   "nbconvert_exporter": "python",
   "pygments_lexer": "ipython3",
   "version": "3.10.8"
  }
 },
 "nbformat": 4,
 "nbformat_minor": 5
}
